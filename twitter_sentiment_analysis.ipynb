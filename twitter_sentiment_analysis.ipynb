{
 "metadata": {
  "language_info": {
   "codemirror_mode": {
    "name": "ipython",
    "version": 3
   },
   "file_extension": ".py",
   "mimetype": "text/x-python",
   "name": "python",
   "nbconvert_exporter": "python",
   "pygments_lexer": "ipython3",
   "version": "3.8.5-final"
  },
  "orig_nbformat": 2,
  "kernelspec": {
   "name": "python3",
   "display_name": "Python 3"
  }
 },
 "nbformat": 4,
 "nbformat_minor": 2,
 "cells": [
  {
   "source": [
    "# Twitter sentiment analysis"
   ],
   "cell_type": "markdown",
   "metadata": {}
  },
  {
   "cell_type": "code",
   "execution_count": 1,
   "metadata": {},
   "outputs": [],
   "source": [
    "import pandas as pd \n",
    "import numpy as np"
   ]
  },
  {
   "cell_type": "code",
   "execution_count": 2,
   "metadata": {},
   "outputs": [],
   "source": [
    "import spacy\n",
    "from spacy.lang.en.stop_words import STOP_WORDS "
   ]
  },
  {
   "cell_type": "code",
   "execution_count": 5,
   "metadata": {},
   "outputs": [],
   "source": [
    "df = pd.read_csv('Dataset/training.csv' , encoding = 'latin1' , header= None)"
   ]
  },
  {
   "cell_type": "code",
   "execution_count": 6,
   "metadata": {},
   "outputs": [
    {
     "output_type": "execute_result",
     "data": {
      "text/plain": [
       "   0           1                             2         3                4  \\\n",
       "0  0  1467810369  Mon Apr 06 22:19:45 PDT 2009  NO_QUERY  _TheSpecialOne_   \n",
       "1  0  1467810672  Mon Apr 06 22:19:49 PDT 2009  NO_QUERY    scotthamilton   \n",
       "2  0  1467810917  Mon Apr 06 22:19:53 PDT 2009  NO_QUERY         mattycus   \n",
       "3  0  1467811184  Mon Apr 06 22:19:57 PDT 2009  NO_QUERY          ElleCTF   \n",
       "4  0  1467811193  Mon Apr 06 22:19:57 PDT 2009  NO_QUERY           Karoli   \n",
       "\n",
       "                                                   5  \n",
       "0  @switchfoot http://twitpic.com/2y1zl - Awww, t...  \n",
       "1  is upset that he can't update his Facebook by ...  \n",
       "2  @Kenichan I dived many times for the ball. Man...  \n",
       "3    my whole body feels itchy and like its on fire   \n",
       "4  @nationwideclass no, it's not behaving at all....  "
      ],
      "text/html": "<div>\n<style scoped>\n    .dataframe tbody tr th:only-of-type {\n        vertical-align: middle;\n    }\n\n    .dataframe tbody tr th {\n        vertical-align: top;\n    }\n\n    .dataframe thead th {\n        text-align: right;\n    }\n</style>\n<table border=\"1\" class=\"dataframe\">\n  <thead>\n    <tr style=\"text-align: right;\">\n      <th></th>\n      <th>0</th>\n      <th>1</th>\n      <th>2</th>\n      <th>3</th>\n      <th>4</th>\n      <th>5</th>\n    </tr>\n  </thead>\n  <tbody>\n    <tr>\n      <th>0</th>\n      <td>0</td>\n      <td>1467810369</td>\n      <td>Mon Apr 06 22:19:45 PDT 2009</td>\n      <td>NO_QUERY</td>\n      <td>_TheSpecialOne_</td>\n      <td>@switchfoot http://twitpic.com/2y1zl - Awww, t...</td>\n    </tr>\n    <tr>\n      <th>1</th>\n      <td>0</td>\n      <td>1467810672</td>\n      <td>Mon Apr 06 22:19:49 PDT 2009</td>\n      <td>NO_QUERY</td>\n      <td>scotthamilton</td>\n      <td>is upset that he can't update his Facebook by ...</td>\n    </tr>\n    <tr>\n      <th>2</th>\n      <td>0</td>\n      <td>1467810917</td>\n      <td>Mon Apr 06 22:19:53 PDT 2009</td>\n      <td>NO_QUERY</td>\n      <td>mattycus</td>\n      <td>@Kenichan I dived many times for the ball. Man...</td>\n    </tr>\n    <tr>\n      <th>3</th>\n      <td>0</td>\n      <td>1467811184</td>\n      <td>Mon Apr 06 22:19:57 PDT 2009</td>\n      <td>NO_QUERY</td>\n      <td>ElleCTF</td>\n      <td>my whole body feels itchy and like its on fire</td>\n    </tr>\n    <tr>\n      <th>4</th>\n      <td>0</td>\n      <td>1467811193</td>\n      <td>Mon Apr 06 22:19:57 PDT 2009</td>\n      <td>NO_QUERY</td>\n      <td>Karoli</td>\n      <td>@nationwideclass no, it's not behaving at all....</td>\n    </tr>\n  </tbody>\n</table>\n</div>"
     },
     "metadata": {},
     "execution_count": 6
    }
   ],
   "source": [
    "df.head()"
   ]
  },
  {
   "cell_type": "code",
   "execution_count": 7,
   "metadata": {},
   "outputs": [
    {
     "output_type": "execute_result",
     "data": {
      "text/plain": [
       "(1600000, 6)"
      ]
     },
     "metadata": {},
     "execution_count": 7
    }
   ],
   "source": [
    "df.shape"
   ]
  },
  {
   "cell_type": "code",
   "execution_count": 8,
   "metadata": {},
   "outputs": [],
   "source": [
    "df = df [[5,0]]"
   ]
  },
  {
   "cell_type": "code",
   "execution_count": 9,
   "metadata": {},
   "outputs": [],
   "source": [
    "df.columns = ['twitts' , 'sentiment']"
   ]
  },
  {
   "cell_type": "code",
   "execution_count": 10,
   "metadata": {},
   "outputs": [
    {
     "output_type": "execute_result",
     "data": {
      "text/plain": [
       "                                              twitts  sentiment\n",
       "0  @switchfoot http://twitpic.com/2y1zl - Awww, t...          0\n",
       "1  is upset that he can't update his Facebook by ...          0\n",
       "2  @Kenichan I dived many times for the ball. Man...          0\n",
       "3    my whole body feels itchy and like its on fire           0\n",
       "4  @nationwideclass no, it's not behaving at all....          0"
      ],
      "text/html": "<div>\n<style scoped>\n    .dataframe tbody tr th:only-of-type {\n        vertical-align: middle;\n    }\n\n    .dataframe tbody tr th {\n        vertical-align: top;\n    }\n\n    .dataframe thead th {\n        text-align: right;\n    }\n</style>\n<table border=\"1\" class=\"dataframe\">\n  <thead>\n    <tr style=\"text-align: right;\">\n      <th></th>\n      <th>twitts</th>\n      <th>sentiment</th>\n    </tr>\n  </thead>\n  <tbody>\n    <tr>\n      <th>0</th>\n      <td>@switchfoot http://twitpic.com/2y1zl - Awww, t...</td>\n      <td>0</td>\n    </tr>\n    <tr>\n      <th>1</th>\n      <td>is upset that he can't update his Facebook by ...</td>\n      <td>0</td>\n    </tr>\n    <tr>\n      <th>2</th>\n      <td>@Kenichan I dived many times for the ball. Man...</td>\n      <td>0</td>\n    </tr>\n    <tr>\n      <th>3</th>\n      <td>my whole body feels itchy and like its on fire</td>\n      <td>0</td>\n    </tr>\n    <tr>\n      <th>4</th>\n      <td>@nationwideclass no, it's not behaving at all....</td>\n      <td>0</td>\n    </tr>\n  </tbody>\n</table>\n</div>"
     },
     "metadata": {},
     "execution_count": 10
    }
   ],
   "source": [
    "df.head()"
   ]
  },
  {
   "cell_type": "code",
   "execution_count": 11,
   "metadata": {},
   "outputs": [
    {
     "output_type": "execute_result",
     "data": {
      "text/plain": [
       "4    800000\n",
       "0    800000\n",
       "Name: sentiment, dtype: int64"
      ]
     },
     "metadata": {},
     "execution_count": 11
    }
   ],
   "source": [
    "df['sentiment'].value_counts()"
   ]
  },
  {
   "cell_type": "code",
   "execution_count": 12,
   "metadata": {},
   "outputs": [],
   "source": [
    "sent_map = {0 : 'negative' , 4 : 'positive'}"
   ]
  },
  {
   "source": [
    "## Word Counts"
   ],
   "cell_type": "markdown",
   "metadata": {}
  },
  {
   "cell_type": "code",
   "execution_count": 14,
   "metadata": {},
   "outputs": [],
   "source": [
    "df['word_counts'] = df['twitts'].apply(lambda x : len(str(x).split()))  \n",
    "# We make x string because there might be some digits in the twitts and digit (int/float)\n",
    "# Cannot be splited without the converting it to string\n"
   ]
  },
  {
   "cell_type": "code",
   "execution_count": 15,
   "metadata": {},
   "outputs": [
    {
     "output_type": "execute_result",
     "data": {
      "text/plain": [
       "                                              twitts  sentiment  word_counts\n",
       "0  @switchfoot http://twitpic.com/2y1zl - Awww, t...          0           19\n",
       "1  is upset that he can't update his Facebook by ...          0           21\n",
       "2  @Kenichan I dived many times for the ball. Man...          0           18\n",
       "3    my whole body feels itchy and like its on fire           0           10\n",
       "4  @nationwideclass no, it's not behaving at all....          0           21"
      ],
      "text/html": "<div>\n<style scoped>\n    .dataframe tbody tr th:only-of-type {\n        vertical-align: middle;\n    }\n\n    .dataframe tbody tr th {\n        vertical-align: top;\n    }\n\n    .dataframe thead th {\n        text-align: right;\n    }\n</style>\n<table border=\"1\" class=\"dataframe\">\n  <thead>\n    <tr style=\"text-align: right;\">\n      <th></th>\n      <th>twitts</th>\n      <th>sentiment</th>\n      <th>word_counts</th>\n    </tr>\n  </thead>\n  <tbody>\n    <tr>\n      <th>0</th>\n      <td>@switchfoot http://twitpic.com/2y1zl - Awww, t...</td>\n      <td>0</td>\n      <td>19</td>\n    </tr>\n    <tr>\n      <th>1</th>\n      <td>is upset that he can't update his Facebook by ...</td>\n      <td>0</td>\n      <td>21</td>\n    </tr>\n    <tr>\n      <th>2</th>\n      <td>@Kenichan I dived many times for the ball. Man...</td>\n      <td>0</td>\n      <td>18</td>\n    </tr>\n    <tr>\n      <th>3</th>\n      <td>my whole body feels itchy and like its on fire</td>\n      <td>0</td>\n      <td>10</td>\n    </tr>\n    <tr>\n      <th>4</th>\n      <td>@nationwideclass no, it's not behaving at all....</td>\n      <td>0</td>\n      <td>21</td>\n    </tr>\n  </tbody>\n</table>\n</div>"
     },
     "metadata": {},
     "execution_count": 15
    }
   ],
   "source": [
    "df.head()"
   ]
  },
  {
   "source": [
    "## Characters Count"
   ],
   "cell_type": "markdown",
   "metadata": {}
  },
  {
   "cell_type": "code",
   "execution_count": 16,
   "metadata": {},
   "outputs": [],
   "source": [
    "df['char_counts'] = df['twitts'].apply(lambda x : len(x))"
   ]
  },
  {
   "cell_type": "code",
   "execution_count": 17,
   "metadata": {},
   "outputs": [
    {
     "output_type": "execute_result",
     "data": {
      "text/plain": [
       "                                              twitts  sentiment  word_counts  \\\n",
       "0  @switchfoot http://twitpic.com/2y1zl - Awww, t...          0           19   \n",
       "1  is upset that he can't update his Facebook by ...          0           21   \n",
       "2  @Kenichan I dived many times for the ball. Man...          0           18   \n",
       "3    my whole body feels itchy and like its on fire           0           10   \n",
       "4  @nationwideclass no, it's not behaving at all....          0           21   \n",
       "\n",
       "   char_counts  \n",
       "0          115  \n",
       "1          111  \n",
       "2           89  \n",
       "3           47  \n",
       "4          111  "
      ],
      "text/html": "<div>\n<style scoped>\n    .dataframe tbody tr th:only-of-type {\n        vertical-align: middle;\n    }\n\n    .dataframe tbody tr th {\n        vertical-align: top;\n    }\n\n    .dataframe thead th {\n        text-align: right;\n    }\n</style>\n<table border=\"1\" class=\"dataframe\">\n  <thead>\n    <tr style=\"text-align: right;\">\n      <th></th>\n      <th>twitts</th>\n      <th>sentiment</th>\n      <th>word_counts</th>\n      <th>char_counts</th>\n    </tr>\n  </thead>\n  <tbody>\n    <tr>\n      <th>0</th>\n      <td>@switchfoot http://twitpic.com/2y1zl - Awww, t...</td>\n      <td>0</td>\n      <td>19</td>\n      <td>115</td>\n    </tr>\n    <tr>\n      <th>1</th>\n      <td>is upset that he can't update his Facebook by ...</td>\n      <td>0</td>\n      <td>21</td>\n      <td>111</td>\n    </tr>\n    <tr>\n      <th>2</th>\n      <td>@Kenichan I dived many times for the ball. Man...</td>\n      <td>0</td>\n      <td>18</td>\n      <td>89</td>\n    </tr>\n    <tr>\n      <th>3</th>\n      <td>my whole body feels itchy and like its on fire</td>\n      <td>0</td>\n      <td>10</td>\n      <td>47</td>\n    </tr>\n    <tr>\n      <th>4</th>\n      <td>@nationwideclass no, it's not behaving at all....</td>\n      <td>0</td>\n      <td>21</td>\n      <td>111</td>\n    </tr>\n  </tbody>\n</table>\n</div>"
     },
     "metadata": {},
     "execution_count": 17
    }
   ],
   "source": [
    "df.head()"
   ]
  },
  {
   "source": [
    "## Avarage Word Length"
   ],
   "cell_type": "markdown",
   "metadata": {}
  },
  {
   "cell_type": "code",
   "execution_count": 18,
   "metadata": {},
   "outputs": [],
   "source": [
    "def get_avg_word_len(x):\n",
    "    words = x.split()\n",
    "    word_len = 0\n",
    "    for word in words:\n",
    "        word_len = word_len + len(word)\n",
    "    return word_len / len(words) # = len(x) / len(words), This formula does not consider white space as a character"
   ]
  },
  {
   "cell_type": "code",
   "execution_count": 19,
   "metadata": {},
   "outputs": [],
   "source": [
    "df['avg_word_len'] = df['twitts'].apply(lambda x : get_avg_word_len(x))"
   ]
  },
  {
   "cell_type": "code",
   "execution_count": 20,
   "metadata": {},
   "outputs": [
    {
     "output_type": "execute_result",
     "data": {
      "text/plain": [
       "                                              twitts  sentiment  word_counts  \\\n",
       "0  @switchfoot http://twitpic.com/2y1zl - Awww, t...          0           19   \n",
       "1  is upset that he can't update his Facebook by ...          0           21   \n",
       "2  @Kenichan I dived many times for the ball. Man...          0           18   \n",
       "3    my whole body feels itchy and like its on fire           0           10   \n",
       "4  @nationwideclass no, it's not behaving at all....          0           21   \n",
       "\n",
       "   char_counts  avg_word_len  \n",
       "0          115      5.052632  \n",
       "1          111      4.285714  \n",
       "2           89      3.944444  \n",
       "3           47      3.700000  \n",
       "4          111      4.285714  "
      ],
      "text/html": "<div>\n<style scoped>\n    .dataframe tbody tr th:only-of-type {\n        vertical-align: middle;\n    }\n\n    .dataframe tbody tr th {\n        vertical-align: top;\n    }\n\n    .dataframe thead th {\n        text-align: right;\n    }\n</style>\n<table border=\"1\" class=\"dataframe\">\n  <thead>\n    <tr style=\"text-align: right;\">\n      <th></th>\n      <th>twitts</th>\n      <th>sentiment</th>\n      <th>word_counts</th>\n      <th>char_counts</th>\n      <th>avg_word_len</th>\n    </tr>\n  </thead>\n  <tbody>\n    <tr>\n      <th>0</th>\n      <td>@switchfoot http://twitpic.com/2y1zl - Awww, t...</td>\n      <td>0</td>\n      <td>19</td>\n      <td>115</td>\n      <td>5.052632</td>\n    </tr>\n    <tr>\n      <th>1</th>\n      <td>is upset that he can't update his Facebook by ...</td>\n      <td>0</td>\n      <td>21</td>\n      <td>111</td>\n      <td>4.285714</td>\n    </tr>\n    <tr>\n      <th>2</th>\n      <td>@Kenichan I dived many times for the ball. Man...</td>\n      <td>0</td>\n      <td>18</td>\n      <td>89</td>\n      <td>3.944444</td>\n    </tr>\n    <tr>\n      <th>3</th>\n      <td>my whole body feels itchy and like its on fire</td>\n      <td>0</td>\n      <td>10</td>\n      <td>47</td>\n      <td>3.700000</td>\n    </tr>\n    <tr>\n      <th>4</th>\n      <td>@nationwideclass no, it's not behaving at all....</td>\n      <td>0</td>\n      <td>21</td>\n      <td>111</td>\n      <td>4.285714</td>\n    </tr>\n  </tbody>\n</table>\n</div>"
     },
     "metadata": {},
     "execution_count": 20
    }
   ],
   "source": [
    "df.head()"
   ]
  },
  {
   "source": [
    "## Stop Word Counts"
   ],
   "cell_type": "markdown",
   "metadata": {}
  },
  {
   "cell_type": "code",
   "execution_count": 23,
   "metadata": {},
   "outputs": [
    {
     "output_type": "stream",
     "name": "stdout",
     "text": [
      "{'get', 'much', 'of', 'keep', 'however', 'see', 'above', 'being', 'still', 'further', 'thence', 'either', 'after', 'there', 'up', 'is', 'why', 'regarding', 'say', 'under', 'call', 'enough', 'over', 'between', 'another', 'front', 'nine', 'mostly', 'besides', 'such', 'some', 'please', '’m', 'hers', 'this', 'did', 'will', 'beforehand', 'nevertheless', 'sixty', 'used', 'also', 'became', \"'ll\", 're', '‘s', 'below', 'into', 'each', 'only', 'just', 'therein', 'first', 'yet', 'have', 'hereupon', '‘ve', 'name', 'has', 'someone', 'we', 'various', 'a', 'hence', 'never', 'something', 'once', 'be', 'i', '‘m', 'where', 'before', 'last', 'was', 'again', 'that', 'eleven', 'anywhere', 'you', \"'d\", 'nor', 'throughout', 'whoever', 'if', 'latter', 'the', 'its', 'were', 'not', 'somehow', 'and', 'all', 'show', 'every', 'elsewhere', '‘re', 'otherwise', 'across', 'hereafter', 'against', 'make', 'none', 'until', 'through', 'thereby', 'although', 'rather', 'behind', 'give', 'more', 'nobody', 'must', 'least', 'they', 'because', 'too', 'back', 'whereas', 'been', 'eight', 'does', \"'re\", 'forty', 'towards', 'twenty', 'except', 'fifty', 'am', 'nowhere', 'those', 'almost', 'already', 'ten', 'she', 'anyone', 'seems', 'sometimes', 'one', 'for', 'myself', 'itself', 'whereby', 'both', 'whither', 'via', 'own', 'quite', 'any', 'he', 'namely', 'thus', 'becoming', '’ll', 'due', 'done', 'bottom', 'or', 'seem', 'these', 'whenever', 'wherein', 'off', 'thereafter', 'him', 'anyway', 'many', '‘ll', 'perhaps', 'yourself', 'to', 'herein', 'less', 'six', 'made', 'from', \"'s\", '’re', 'thru', 'could', 'three', 'what', 'though', 'onto', 'might', 'had', 'so', 'become', 'as', '‘d', 'yourselves', 'n’t', 'move', 'few', 'everyone', 'would', 'therefore', 'fifteen', 'down', 'ours', 'thereupon', 'how', 'himself', 'doing', 'third', 'me', 'around', 'indeed', 'here', 'else', 'same', 'latterly', 'do', 'us', 'since', 'my', 'everything', 'together', 'afterwards', 'whom', 'in', 'anyhow', 'are', 'neither', 'about', '’s', 'amount', '’ve', 'two', 'next', 'really', 'without', 'alone', 'beyond', 'them', 'formerly', 'toward', 'others', 'who', 'with', 'very', 'four', 'ca', 'hundred', 'beside', 'whose', 'using', 'serious', 'themselves', 'along', 'wherever', 'should', 'but', 'whereupon', 'at', 'cannot', 'seeming', 'no', 'whether', 'ourselves', 'take', 'mine', 'whatever', 'everywhere', 'sometime', 'whole', \"'ve\", 'hereby', 'meanwhile', 'somewhere', 'several', 'our', 'five', 'can', 'on', '’d', 'other', 'ever', \"'m\", 'whereafter', 'twelve', 'part', 'unless', 'it', 'among', 'side', 'may', 'nothing', 'within', 'go', 'his', 'upon', 'always', 'herself', 'seemed', 'even', 'then', 'your', 'n‘t', 'out', 'their', 'moreover', 'becomes', 'which', 'top', 'full', 'during', 'now', 'an', 'by', 'well', 'while', 'amongst', 'her', 'when', \"n't\", 'whence', 'most', 'put', 'often', 'yours', 'empty', 'former', 'per', 'noone', 'anything', 'than'}\n"
     ]
    }
   ],
   "source": [
    "print(STOP_WORDS)"
   ]
  },
  {
   "cell_type": "code",
   "execution_count": 24,
   "metadata": {},
   "outputs": [],
   "source": [
    "df['stop_len'] = df['twitts'].apply(lambda x: len([t for t in x.split() if t in STOP_WORDS]))"
   ]
  },
  {
   "cell_type": "code",
   "execution_count": 25,
   "metadata": {},
   "outputs": [
    {
     "output_type": "execute_result",
     "data": {
      "text/plain": [
       "                                              twitts  sentiment  word_counts  \\\n",
       "0  @switchfoot http://twitpic.com/2y1zl - Awww, t...          0           19   \n",
       "1  is upset that he can't update his Facebook by ...          0           21   \n",
       "2  @Kenichan I dived many times for the ball. Man...          0           18   \n",
       "3    my whole body feels itchy and like its on fire           0           10   \n",
       "4  @nationwideclass no, it's not behaving at all....          0           21   \n",
       "\n",
       "   char_counts  avg_word_len  stop_len  \n",
       "0          115      5.052632         4  \n",
       "1          111      4.285714         9  \n",
       "2           89      3.944444         7  \n",
       "3           47      3.700000         5  \n",
       "4          111      4.285714        10  "
      ],
      "text/html": "<div>\n<style scoped>\n    .dataframe tbody tr th:only-of-type {\n        vertical-align: middle;\n    }\n\n    .dataframe tbody tr th {\n        vertical-align: top;\n    }\n\n    .dataframe thead th {\n        text-align: right;\n    }\n</style>\n<table border=\"1\" class=\"dataframe\">\n  <thead>\n    <tr style=\"text-align: right;\">\n      <th></th>\n      <th>twitts</th>\n      <th>sentiment</th>\n      <th>word_counts</th>\n      <th>char_counts</th>\n      <th>avg_word_len</th>\n      <th>stop_len</th>\n    </tr>\n  </thead>\n  <tbody>\n    <tr>\n      <th>0</th>\n      <td>@switchfoot http://twitpic.com/2y1zl - Awww, t...</td>\n      <td>0</td>\n      <td>19</td>\n      <td>115</td>\n      <td>5.052632</td>\n      <td>4</td>\n    </tr>\n    <tr>\n      <th>1</th>\n      <td>is upset that he can't update his Facebook by ...</td>\n      <td>0</td>\n      <td>21</td>\n      <td>111</td>\n      <td>4.285714</td>\n      <td>9</td>\n    </tr>\n    <tr>\n      <th>2</th>\n      <td>@Kenichan I dived many times for the ball. Man...</td>\n      <td>0</td>\n      <td>18</td>\n      <td>89</td>\n      <td>3.944444</td>\n      <td>7</td>\n    </tr>\n    <tr>\n      <th>3</th>\n      <td>my whole body feels itchy and like its on fire</td>\n      <td>0</td>\n      <td>10</td>\n      <td>47</td>\n      <td>3.700000</td>\n      <td>5</td>\n    </tr>\n    <tr>\n      <th>4</th>\n      <td>@nationwideclass no, it's not behaving at all....</td>\n      <td>0</td>\n      <td>21</td>\n      <td>111</td>\n      <td>4.285714</td>\n      <td>10</td>\n    </tr>\n  </tbody>\n</table>\n</div>"
     },
     "metadata": {},
     "execution_count": 25
    }
   ],
   "source": [
    "df.head()"
   ]
  },
  {
   "source": [
    "## Count of #Hash Tags and @Mentions"
   ],
   "cell_type": "markdown",
   "metadata": {}
  },
  {
   "cell_type": "code",
   "execution_count": 26,
   "metadata": {},
   "outputs": [],
   "source": [
    "df['hashtags_count'] = df['twitts'].apply(lambda x: len([t for t in x.split() if t.startswith('#')]))\n",
    "df['mentions_count'] = df['twitts'].apply(lambda x: len([t for t in x.split() if t.startswith('@')]))"
   ]
  },
  {
   "cell_type": "code",
   "execution_count": 27,
   "metadata": {},
   "outputs": [
    {
     "output_type": "execute_result",
     "data": {
      "text/plain": [
       "                                              twitts  sentiment  word_counts  \\\n",
       "0  @switchfoot http://twitpic.com/2y1zl - Awww, t...          0           19   \n",
       "1  is upset that he can't update his Facebook by ...          0           21   \n",
       "2  @Kenichan I dived many times for the ball. Man...          0           18   \n",
       "3    my whole body feels itchy and like its on fire           0           10   \n",
       "4  @nationwideclass no, it's not behaving at all....          0           21   \n",
       "\n",
       "   char_counts  avg_word_len  stop_len  hashtags_count  mentions_count  \n",
       "0          115      5.052632         4               0               1  \n",
       "1          111      4.285714         9               0               0  \n",
       "2           89      3.944444         7               0               1  \n",
       "3           47      3.700000         5               0               0  \n",
       "4          111      4.285714        10               0               1  "
      ],
      "text/html": "<div>\n<style scoped>\n    .dataframe tbody tr th:only-of-type {\n        vertical-align: middle;\n    }\n\n    .dataframe tbody tr th {\n        vertical-align: top;\n    }\n\n    .dataframe thead th {\n        text-align: right;\n    }\n</style>\n<table border=\"1\" class=\"dataframe\">\n  <thead>\n    <tr style=\"text-align: right;\">\n      <th></th>\n      <th>twitts</th>\n      <th>sentiment</th>\n      <th>word_counts</th>\n      <th>char_counts</th>\n      <th>avg_word_len</th>\n      <th>stop_len</th>\n      <th>hashtags_count</th>\n      <th>mentions_count</th>\n    </tr>\n  </thead>\n  <tbody>\n    <tr>\n      <th>0</th>\n      <td>@switchfoot http://twitpic.com/2y1zl - Awww, t...</td>\n      <td>0</td>\n      <td>19</td>\n      <td>115</td>\n      <td>5.052632</td>\n      <td>4</td>\n      <td>0</td>\n      <td>1</td>\n    </tr>\n    <tr>\n      <th>1</th>\n      <td>is upset that he can't update his Facebook by ...</td>\n      <td>0</td>\n      <td>21</td>\n      <td>111</td>\n      <td>4.285714</td>\n      <td>9</td>\n      <td>0</td>\n      <td>0</td>\n    </tr>\n    <tr>\n      <th>2</th>\n      <td>@Kenichan I dived many times for the ball. Man...</td>\n      <td>0</td>\n      <td>18</td>\n      <td>89</td>\n      <td>3.944444</td>\n      <td>7</td>\n      <td>0</td>\n      <td>1</td>\n    </tr>\n    <tr>\n      <th>3</th>\n      <td>my whole body feels itchy and like its on fire</td>\n      <td>0</td>\n      <td>10</td>\n      <td>47</td>\n      <td>3.700000</td>\n      <td>5</td>\n      <td>0</td>\n      <td>0</td>\n    </tr>\n    <tr>\n      <th>4</th>\n      <td>@nationwideclass no, it's not behaving at all....</td>\n      <td>0</td>\n      <td>21</td>\n      <td>111</td>\n      <td>4.285714</td>\n      <td>10</td>\n      <td>0</td>\n      <td>1</td>\n    </tr>\n  </tbody>\n</table>\n</div>"
     },
     "metadata": {},
     "execution_count": 27
    }
   ],
   "source": [
    "df.head()"
   ]
  },
  {
   "source": [
    "## If numeric digits are present in twitts"
   ],
   "cell_type": "markdown",
   "metadata": {}
  },
  {
   "cell_type": "code",
   "execution_count": 28,
   "metadata": {},
   "outputs": [],
   "source": [
    "df['numerics_counts'] = df['twitts'].apply(lambda x : len([t for t in x.split() if t.isdigit()]))"
   ]
  },
  {
   "cell_type": "code",
   "execution_count": 29,
   "metadata": {},
   "outputs": [
    {
     "output_type": "execute_result",
     "data": {
      "text/plain": [
       "                                              twitts  sentiment  word_counts  \\\n",
       "0  @switchfoot http://twitpic.com/2y1zl - Awww, t...          0           19   \n",
       "1  is upset that he can't update his Facebook by ...          0           21   \n",
       "2  @Kenichan I dived many times for the ball. Man...          0           18   \n",
       "3    my whole body feels itchy and like its on fire           0           10   \n",
       "4  @nationwideclass no, it's not behaving at all....          0           21   \n",
       "\n",
       "   char_counts  avg_word_len  stop_len  hashtags_count  mentions_count  \\\n",
       "0          115      5.052632         4               0               1   \n",
       "1          111      4.285714         9               0               0   \n",
       "2           89      3.944444         7               0               1   \n",
       "3           47      3.700000         5               0               0   \n",
       "4          111      4.285714        10               0               1   \n",
       "\n",
       "   numerics_counts  \n",
       "0                0  \n",
       "1                0  \n",
       "2                0  \n",
       "3                0  \n",
       "4                0  "
      ],
      "text/html": "<div>\n<style scoped>\n    .dataframe tbody tr th:only-of-type {\n        vertical-align: middle;\n    }\n\n    .dataframe tbody tr th {\n        vertical-align: top;\n    }\n\n    .dataframe thead th {\n        text-align: right;\n    }\n</style>\n<table border=\"1\" class=\"dataframe\">\n  <thead>\n    <tr style=\"text-align: right;\">\n      <th></th>\n      <th>twitts</th>\n      <th>sentiment</th>\n      <th>word_counts</th>\n      <th>char_counts</th>\n      <th>avg_word_len</th>\n      <th>stop_len</th>\n      <th>hashtags_count</th>\n      <th>mentions_count</th>\n      <th>numerics_counts</th>\n    </tr>\n  </thead>\n  <tbody>\n    <tr>\n      <th>0</th>\n      <td>@switchfoot http://twitpic.com/2y1zl - Awww, t...</td>\n      <td>0</td>\n      <td>19</td>\n      <td>115</td>\n      <td>5.052632</td>\n      <td>4</td>\n      <td>0</td>\n      <td>1</td>\n      <td>0</td>\n    </tr>\n    <tr>\n      <th>1</th>\n      <td>is upset that he can't update his Facebook by ...</td>\n      <td>0</td>\n      <td>21</td>\n      <td>111</td>\n      <td>4.285714</td>\n      <td>9</td>\n      <td>0</td>\n      <td>0</td>\n      <td>0</td>\n    </tr>\n    <tr>\n      <th>2</th>\n      <td>@Kenichan I dived many times for the ball. Man...</td>\n      <td>0</td>\n      <td>18</td>\n      <td>89</td>\n      <td>3.944444</td>\n      <td>7</td>\n      <td>0</td>\n      <td>1</td>\n      <td>0</td>\n    </tr>\n    <tr>\n      <th>3</th>\n      <td>my whole body feels itchy and like its on fire</td>\n      <td>0</td>\n      <td>10</td>\n      <td>47</td>\n      <td>3.700000</td>\n      <td>5</td>\n      <td>0</td>\n      <td>0</td>\n      <td>0</td>\n    </tr>\n    <tr>\n      <th>4</th>\n      <td>@nationwideclass no, it's not behaving at all....</td>\n      <td>0</td>\n      <td>21</td>\n      <td>111</td>\n      <td>4.285714</td>\n      <td>10</td>\n      <td>0</td>\n      <td>1</td>\n      <td>0</td>\n    </tr>\n  </tbody>\n</table>\n</div>"
     },
     "metadata": {},
     "execution_count": 29
    }
   ],
   "source": [
    "df.head()"
   ]
  },
  {
   "source": [
    "## Upper case words count"
   ],
   "cell_type": "markdown",
   "metadata": {}
  },
  {
   "source": [
    "upper case counts is important in sentiment anlysis because people often express there happiness and anger in upper case"
   ],
   "cell_type": "markdown",
   "metadata": {}
  },
  {
   "cell_type": "code",
   "execution_count": 31,
   "metadata": {},
   "outputs": [],
   "source": [
    "df['upper_counts'] = df['twitts'].apply(lambda x: len([t for t in x.split() if t.isupper() and len(x) > 3]))"
   ]
  },
  {
   "cell_type": "code",
   "execution_count": 32,
   "metadata": {},
   "outputs": [
    {
     "output_type": "execute_result",
     "data": {
      "text/plain": [
       "                                              twitts  sentiment  word_counts  \\\n",
       "0  @switchfoot http://twitpic.com/2y1zl - Awww, t...          0           19   \n",
       "1  is upset that he can't update his Facebook by ...          0           21   \n",
       "2  @Kenichan I dived many times for the ball. Man...          0           18   \n",
       "3    my whole body feels itchy and like its on fire           0           10   \n",
       "4  @nationwideclass no, it's not behaving at all....          0           21   \n",
       "\n",
       "   char_counts  avg_word_len  stop_len  hashtags_count  mentions_count  \\\n",
       "0          115      5.052632         4               0               1   \n",
       "1          111      4.285714         9               0               0   \n",
       "2           89      3.944444         7               0               1   \n",
       "3           47      3.700000         5               0               0   \n",
       "4          111      4.285714        10               0               1   \n",
       "\n",
       "   numerics_counts  upper_counts  \n",
       "0                0             1  \n",
       "1                0             0  \n",
       "2                0             1  \n",
       "3                0             0  \n",
       "4                0             1  "
      ],
      "text/html": "<div>\n<style scoped>\n    .dataframe tbody tr th:only-of-type {\n        vertical-align: middle;\n    }\n\n    .dataframe tbody tr th {\n        vertical-align: top;\n    }\n\n    .dataframe thead th {\n        text-align: right;\n    }\n</style>\n<table border=\"1\" class=\"dataframe\">\n  <thead>\n    <tr style=\"text-align: right;\">\n      <th></th>\n      <th>twitts</th>\n      <th>sentiment</th>\n      <th>word_counts</th>\n      <th>char_counts</th>\n      <th>avg_word_len</th>\n      <th>stop_len</th>\n      <th>hashtags_count</th>\n      <th>mentions_count</th>\n      <th>numerics_counts</th>\n      <th>upper_counts</th>\n    </tr>\n  </thead>\n  <tbody>\n    <tr>\n      <th>0</th>\n      <td>@switchfoot http://twitpic.com/2y1zl - Awww, t...</td>\n      <td>0</td>\n      <td>19</td>\n      <td>115</td>\n      <td>5.052632</td>\n      <td>4</td>\n      <td>0</td>\n      <td>1</td>\n      <td>0</td>\n      <td>1</td>\n    </tr>\n    <tr>\n      <th>1</th>\n      <td>is upset that he can't update his Facebook by ...</td>\n      <td>0</td>\n      <td>21</td>\n      <td>111</td>\n      <td>4.285714</td>\n      <td>9</td>\n      <td>0</td>\n      <td>0</td>\n      <td>0</td>\n      <td>0</td>\n    </tr>\n    <tr>\n      <th>2</th>\n      <td>@Kenichan I dived many times for the ball. Man...</td>\n      <td>0</td>\n      <td>18</td>\n      <td>89</td>\n      <td>3.944444</td>\n      <td>7</td>\n      <td>0</td>\n      <td>1</td>\n      <td>0</td>\n      <td>1</td>\n    </tr>\n    <tr>\n      <th>3</th>\n      <td>my whole body feels itchy and like its on fire</td>\n      <td>0</td>\n      <td>10</td>\n      <td>47</td>\n      <td>3.700000</td>\n      <td>5</td>\n      <td>0</td>\n      <td>0</td>\n      <td>0</td>\n      <td>0</td>\n    </tr>\n    <tr>\n      <th>4</th>\n      <td>@nationwideclass no, it's not behaving at all....</td>\n      <td>0</td>\n      <td>21</td>\n      <td>111</td>\n      <td>4.285714</td>\n      <td>10</td>\n      <td>0</td>\n      <td>1</td>\n      <td>0</td>\n      <td>1</td>\n    </tr>\n  </tbody>\n</table>\n</div>"
     },
     "metadata": {},
     "execution_count": 32
    }
   ],
   "source": [
    "df.head()"
   ]
  },
  {
   "cell_type": "code",
   "execution_count": 33,
   "metadata": {},
   "outputs": [
    {
     "output_type": "execute_result",
     "data": {
      "text/plain": [
       "\"so rylee,grace...wana go steve's party or not?? SADLY SINCE ITS EASTER I WNT B ABLE 2 DO MUCH  BUT OHH WELL.....\""
      ]
     },
     "metadata": {},
     "execution_count": 33
    }
   ],
   "source": [
    "# let's see some twitts from the dataset\n",
    "df.loc[96]['twitts']"
   ]
  },
  {
   "cell_type": "code",
   "execution_count": 34,
   "metadata": {},
   "outputs": [
    {
     "output_type": "execute_result",
     "data": {
      "text/plain": [
       "13"
      ]
     },
     "metadata": {},
     "execution_count": 34
    }
   ],
   "source": [
    "df.loc[96]['upper_counts']"
   ]
  },
  {
   "source": [
    "# Preprocessing and Cleaning"
   ],
   "cell_type": "markdown",
   "metadata": {}
  },
  {
   "source": [
    "## Lower case conversion"
   ],
   "cell_type": "markdown",
   "metadata": {}
  },
  {
   "cell_type": "code",
   "execution_count": 35,
   "metadata": {},
   "outputs": [],
   "source": [
    "df['twitts'] = df['twitts'].apply(lambda x: x.lower())"
   ]
  },
  {
   "cell_type": "code",
   "execution_count": 36,
   "metadata": {},
   "outputs": [
    {
     "output_type": "execute_result",
     "data": {
      "text/plain": [
       "                                              twitts  sentiment  word_counts  \\\n",
       "0  @switchfoot http://twitpic.com/2y1zl - awww, t...          0           19   \n",
       "1  is upset that he can't update his facebook by ...          0           21   \n",
       "2  @kenichan i dived many times for the ball. man...          0           18   \n",
       "3    my whole body feels itchy and like its on fire           0           10   \n",
       "4  @nationwideclass no, it's not behaving at all....          0           21   \n",
       "\n",
       "   char_counts  avg_word_len  stop_len  hashtags_count  mentions_count  \\\n",
       "0          115      5.052632         4               0               1   \n",
       "1          111      4.285714         9               0               0   \n",
       "2           89      3.944444         7               0               1   \n",
       "3           47      3.700000         5               0               0   \n",
       "4          111      4.285714        10               0               1   \n",
       "\n",
       "   numerics_counts  upper_counts  \n",
       "0                0             1  \n",
       "1                0             0  \n",
       "2                0             1  \n",
       "3                0             0  \n",
       "4                0             1  "
      ],
      "text/html": "<div>\n<style scoped>\n    .dataframe tbody tr th:only-of-type {\n        vertical-align: middle;\n    }\n\n    .dataframe tbody tr th {\n        vertical-align: top;\n    }\n\n    .dataframe thead th {\n        text-align: right;\n    }\n</style>\n<table border=\"1\" class=\"dataframe\">\n  <thead>\n    <tr style=\"text-align: right;\">\n      <th></th>\n      <th>twitts</th>\n      <th>sentiment</th>\n      <th>word_counts</th>\n      <th>char_counts</th>\n      <th>avg_word_len</th>\n      <th>stop_len</th>\n      <th>hashtags_count</th>\n      <th>mentions_count</th>\n      <th>numerics_counts</th>\n      <th>upper_counts</th>\n    </tr>\n  </thead>\n  <tbody>\n    <tr>\n      <th>0</th>\n      <td>@switchfoot http://twitpic.com/2y1zl - awww, t...</td>\n      <td>0</td>\n      <td>19</td>\n      <td>115</td>\n      <td>5.052632</td>\n      <td>4</td>\n      <td>0</td>\n      <td>1</td>\n      <td>0</td>\n      <td>1</td>\n    </tr>\n    <tr>\n      <th>1</th>\n      <td>is upset that he can't update his facebook by ...</td>\n      <td>0</td>\n      <td>21</td>\n      <td>111</td>\n      <td>4.285714</td>\n      <td>9</td>\n      <td>0</td>\n      <td>0</td>\n      <td>0</td>\n      <td>0</td>\n    </tr>\n    <tr>\n      <th>2</th>\n      <td>@kenichan i dived many times for the ball. man...</td>\n      <td>0</td>\n      <td>18</td>\n      <td>89</td>\n      <td>3.944444</td>\n      <td>7</td>\n      <td>0</td>\n      <td>1</td>\n      <td>0</td>\n      <td>1</td>\n    </tr>\n    <tr>\n      <th>3</th>\n      <td>my whole body feels itchy and like its on fire</td>\n      <td>0</td>\n      <td>10</td>\n      <td>47</td>\n      <td>3.700000</td>\n      <td>5</td>\n      <td>0</td>\n      <td>0</td>\n      <td>0</td>\n      <td>0</td>\n    </tr>\n    <tr>\n      <th>4</th>\n      <td>@nationwideclass no, it's not behaving at all....</td>\n      <td>0</td>\n      <td>21</td>\n      <td>111</td>\n      <td>4.285714</td>\n      <td>10</td>\n      <td>0</td>\n      <td>1</td>\n      <td>0</td>\n      <td>1</td>\n    </tr>\n  </tbody>\n</table>\n</div>"
     },
     "metadata": {},
     "execution_count": 36
    }
   ],
   "source": [
    "df.head()"
   ]
  },
  {
   "source": [
    "## Contraction to Expansion"
   ],
   "cell_type": "markdown",
   "metadata": {}
  },
  {
   "source": [
    "Contractions are Cann't , won't , I'm, he'll etc."
   ],
   "cell_type": "markdown",
   "metadata": {}
  },
  {
   "cell_type": "code",
   "execution_count": null,
   "metadata": {},
   "outputs": [],
   "source": [
    "contractions = {\n",
    "    \"aight\":\t\"alright\",\n",
    "    \"ain't\" :   \"are not\",\n",
    "    \"aren't\":\t\"are not\",\n",
    "    \"amn't\":\t\"am not\",\n",
    "    \"can't\":\t\"cannot\",\n",
    "    \"'cause\":\t\"because\",\n",
    "    \"could've\":\t\"could have\",\n",
    "    \"couldn't\":\t\"could not\",\n",
    "    \"couldn't've\":\t\"could not have\",\n",
    "    \"daren't\":\t\"dare not\",\n",
    "    \"daresn't\":\t\"dare not\",\n",
    "    \"dasn't\":\t\"dare not\",\n",
    "    \"didn't\":\t\"did not\",\n",
    "    \"doesn't\":\t\"does not\",\n",
    "    \"don't\":\t\"do not\",\n",
    "    \"dunno\":\t\"do not know\",\n",
    "    \"d'ye\":\t\"do you\",\n",
    "    \"e'er\":\t\"ever\",\n",
    "    \"everybody's\": \"everybody is\",\n",
    "    \"everyone's\":\t\"everyone is\",\n",
    "    \"finna\":\t\"fixing to\",\n",
    "    \"g'day\":\t\"good day\",\n",
    "    \"gimme\":\t\"give me\",\n",
    "    \"giv'n\":\t\"given\",\n",
    "    \"gonna\":\t\"going to\",\n",
    "    \"gon't\":\t\"go not\",\n",
    "    \"gotta\":\t\"got to\",\n",
    "    \"hadn't\":\t\"had not\",\n",
    "    \"had've\":\t\"had have\",\n",
    "    \"hasn't\":\t\"has not\",\n",
    "    \"haven't\":\t\"have not\",\n",
    "    \"he'd\":\t\"he would\",\n",
    "    \"he'll\":\t\"he will\",\n",
    "    \"he's\":\t\"he has\",\n",
    "    \"he've\":\t\"he have\",\n",
    "    \"how'd\":\t\"how did\",\n",
    "    \"howdy\":\t\"how do you do\",\n",
    "    \"how'll\":\t\"how will\"\n",
    "    \"how're\thow are\n",
    "    \"how's\thow has / how is / how does\n",
    "    \"I'd\tI had / I would\n",
    "    \"I'd've\tI would have\n",
    "    \"I'll\tI shall / I will\n",
    "    \"I'm\tI am\n",
    "    \"I'm'a\tI am about to\n",
    "    \"I'm'o\tI am going to\n",
    "    \"innit\tis it not\n",
    "    \"I've\tI have\n",
    "    \"isn't\tis not\n",
    "    \"it'd\tit would\n",
    "    \"it'll\tit shall / it will\n",
    "    \"it's\tit has / it is\n",
    "    \"iunno\tI don't know\n",
    "    \"let's\tlet us\n",
    "    \"ma'am\tmadam\n",
    "    \"mayn't\tmay not\n",
    "    \"may've\tmay have\n",
    "    \"methinks\tme thinks\n",
    "    \"mightn't\tmight not\n",
    "    \"might've\tmight have\n",
    "    \"mustn't\tmust not\n",
    "    \"mustn't've\tmust not have\n",
    "    \"must've\tmust have\n",
    "    \"needn't\tneed not\n",
    "    \"nal\tand all\n",
    "    \"ne'er\tnever\n",
    "    \"o'clock\tof the clock\n",
    "    \"o'er\tover\n",
    "    \"ol'\told\n",
    "    \"oughtn't\tought not\n",
    "    \"'s\tis, has, does, or us\n",
    "    \"shalln't\tshall not (archaic)\n",
    "    \"shan't\tshall not\n",
    "    \"she'd\tshe had / she would\n",
    "    \"she'll\tshe shall / she will\n",
    "    \"she's\tshe has / she is\n",
    "    \"should've\tshould have\n",
    "    \"shouldn't\tshould not\n",
    "    \"shouldn't've\tshould not have\n",
    "    \"somebody's\tsomebody has / somebody is\n",
    "    \"someone's\tsomeone has / someone is\n",
    "    \"something's\tsomething has / something is\n",
    "    \"so're\tso are (colloquial)\n",
    "    \"that'll\tthat shall / that will\n",
    "    \"that're\tthat are\n",
    "    \"that's\tthat has / that is\n",
    "    \"that'd\tthat would / that had\n",
    "    \"there'd\tthere had / there would\n",
    "    \"there'll\tthere shall / there will\n",
    "    \"there're\tthere are\n",
    "    \"there's\tthere has / there is\n",
    "    \"these're\tthese are\n",
    "    \"these've\tthese have\n",
    "    \"they'd\tthey had / they would\n",
    "    \"they'll\tthey shall / they will\n",
    "    \"they're\tthey are / they were\n",
    "    \"they've\tthey have\n",
    "    \"this's\tthis has / this is\n",
    "    \"those're\tthose are\n",
    "    \"those've\tthose have\n",
    "    \"'tis\tit is\n",
    "    \"to've\tto have\n",
    "    \"'twas\tit was\n",
    "    \"wanna\twant to\n",
    "    \"wasn't\twas not\n",
    "    \"we'd\twe had / we would/ we did\n",
    "    \"we'd've\twe would have\n",
    "    \"we'll\twe shall / we will\n",
    "    \"we're\twe are\n",
    "    \"we've\twe have\n",
    "    \"weren't\twere not\n",
    "    \"what'd\twhat did\n",
    "    \"what'll\twhat shall / what will\n",
    "    \"what're\twhat are/what were\n",
    "    \"what's\twhat has / what is / what does\n",
    "    \"what've\twhat have\n",
    "    \"when's\twhen has / when is\n",
    "    \"where'd\twhere did\"\n",
    "    \"where'll\twhere shall / where will\"\n",
    "    \"where're\twhere are\"\n",
    "    \"where's\twhere has / where is / where does\"\n",
    "    \"where've\twhere have\"\n",
    "    \"which'd\twhich had / which would\"\n",
    "    \"which'll\twhich shall / which will\"\n",
    "    \"which're\twhich are\"\n",
    "    \"which's\twhich has / which is\"\n",
    "    \"which've\twhich have\"\n",
    "    \"who'd\twho would / who had / who did\"\n",
    "    \"who'd've\twho would have\"\n",
    "    \"who'll\twho shall / who will\"\n",
    "    \"who're\twho are\"\n",
    "    \"who's\twho has / who is / who does\"\n",
    "    \"who've\twho have\"\n",
    "    \"why'd\twhy did\"\n",
    "    \"why're\twhy are\"\n",
    "    \"why's\twhy has / why is / why does\"\n",
    "    \"willn't\twill not (archaic)\"\n",
    "    \"won't\twill not\"\n",
    "    \"wonnot\twill not (archaic)\"\n",
    "    \"would've\twould have\"\n",
    "    \"wouldn't\twould not\n",
    "    \"wouldn't've\twould not have\n",
    "    \"y'all\tyou all (colloquial/Southern American English)\n",
    "    \"y'all'd've\tyou all would have (colloquial/Southern American English)\n",
    "    \"y'all'd'n've\tyou all would not have (colloquial/Southern American English)\n",
    "    \"y'all're\tyou all are (colloquial/Southern American English)\n",
    "    \"you'd\tyou had / you would\n",
    "    \"you'll\tyou shall / you will\n",
    "    \"you're\tyou are\n",
    "    \"you've\tyou have\n",
    "}"
   ]
  }
 ]
}